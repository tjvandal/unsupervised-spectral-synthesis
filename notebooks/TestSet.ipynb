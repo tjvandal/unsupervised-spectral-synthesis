{
 "cells": [
  {
   "cell_type": "code",
   "execution_count": 2,
   "metadata": {},
   "outputs": [],
   "source": [
    "import os, sys\n",
    "import glob\n",
    "\n",
    "import numpy as np\n",
    "import torch\n",
    "import matplotlib.pyplot as plt\n",
    "import matplotlib\n",
    "import pandas as pd\n",
    "import datetime as dt\n",
    "\n",
    "from scipy import ndimage\n",
    "\n",
    "import seaborn as sns\n",
    "\n",
    "sns.set(style=\"white\")\n",
    "sns.set_context(\"paper\", font_scale=2.5)\n",
    "sys.path.append('../')\n",
    "\n",
    "from data import geonexl1b\n",
    "import models\n",
    "import utils\n",
    "from inference import domain_to_domain, load_model\n",
    "\n",
    "import torchvision"
   ]
  },
  {
   "cell_type": "code",
   "execution_count": 33,
   "metadata": {},
   "outputs": [
    {
     "name": "stdout",
     "output_type": "stream",
     "text": [
      "Loaded model from step: 199001\n"
     ]
    },
    {
     "data": {
      "text/plain": [
       "{'dataset': 'g16g17h8',\n",
       " 'model_path': '/nobackupp10/tvandal/nex-ai-geo-translation/experiments/1/G16G17H8_16-16-16',\n",
       " 'data': {'G16': {'data_url': 'file:///nobackupp10/tvandal/data/petastorm/G16_64x64_2km-large/',\n",
       "   'bands': '0,1,2,3,4,5,6,7,8,9,10,11,12,13,14,15',\n",
       "   'shared': {'G17': '0,1,2,3,4,5,6,7,8,9,10,11,12,13,14,15',\n",
       "    'H8': '0,1,2,4,5,6,7,8,9,10,11,12,13,14,15'},\n",
       "   'dim': 16},\n",
       "  'G17': {'data_url': 'file:///nobackupp10/tvandal/data/petastorm/G17_64x64_2km-large/',\n",
       "   'bands': '0,1,2,3,4,5,6,7,8,9,10,11,12,13,14,15',\n",
       "   'shared': {'G16': '0,1,2,3,4,5,6,7,8,9,10,11,12,13,14,15',\n",
       "    'H8': '0,1,2,4,5,6,7,8,9,10,11,12,13,14,15'},\n",
       "   'dim': 16},\n",
       "  'H8': {'data_url': 'file:///nobackupp10/tvandal/data/petastorm/H8_64x64_2km-large/',\n",
       "   'bands': '0,1,2,3,4,5,6,7,8,9,10,11,12,13,14,15',\n",
       "   'shared': {'G16': '0,2,3,4,5,6,7,8,9,10,11,12,13,14,15',\n",
       "    'G17': '0,2,3,4,5,6,7,8,9,10,11,12,13,14,15'},\n",
       "   'dim': 16}},\n",
       " 'num_workers': 8,\n",
       " 'checkpoint_step': 5000,\n",
       " 'log_iter': 250,\n",
       " 'max_iter': 200000,\n",
       " 'batch_size': 8,\n",
       " 'weight_decay': 0.0001,\n",
       " 'beta1': 0.5,\n",
       " 'beta2': 0.999,\n",
       " 'init': 'gaussian',\n",
       " 'lr': 0.0001,\n",
       " 'step_size': 25000,\n",
       " 'gamma': 0.5,\n",
       " 'gan_w': 1,\n",
       " 'recon_x_w': 1,\n",
       " 'recon_h_w': 0,\n",
       " 'recon_kl_w': 0.01,\n",
       " 'recon_x_cyc_w': 1,\n",
       " 'recon_kl_cyc_w': 0.0,\n",
       " 'recon_z_cyc_w': 1,\n",
       " 'recon_shared_w': 0.1,\n",
       " 'cycle_step': 100000,\n",
       " 'gen': {'dim': 64,\n",
       "  'activ': 'lrelu',\n",
       "  'n_downsample': 0,\n",
       "  'n_res': 4,\n",
       "  'pad_type': 'zero'},\n",
       " 'dis': {'dim': 64,\n",
       "  'norm': 'none',\n",
       "  'activ': 'lrelu',\n",
       "  'n_layer': 2,\n",
       "  'gan_type': 'lsgan',\n",
       "  'num_scales': 1,\n",
       "  'pad_type': 'reflect'}}"
      ]
     },
     "execution_count": 33,
     "metadata": {},
     "output_type": "execute_result"
    }
   ],
   "source": [
    "exp_config_file = '/nobackupp10/tvandal/nex-ai-geo-translation/configs/Base-G16G17H8.yaml'\n",
    "model, params = load_model(exp_config_file)\n",
    "params"
   ]
  },
  {
   "cell_type": "code",
   "execution_count": 34,
   "metadata": {},
   "outputs": [],
   "source": [
    "goespaired = geonexl1b.L1bPaired('/nobackupp10/tvandal/nex-ai-geo-translation/data/Test/GOES16/GEONEX-L1G/', \n",
    "                                 '/nobackupp10/tvandal/nex-ai-geo-translation/data/Test/GOES17/GEONEX-L1G/',\n",
    "                                 'G16', 'G17')\n",
    "paired_files = goespaired.files(cachedir='.tmp').reset_index()\n",
    "paired_files\n",
    "\n",
    "g16_files = paired_files.pivot('v1', 'h1', 'file1')\n",
    "g17_files = paired_files.pivot('v2', 'h2', 'file2')"
   ]
  },
  {
   "cell_type": "code",
   "execution_count": 31,
   "metadata": {},
   "outputs": [
    {
     "name": "stdout",
     "output_type": "stream",
     "text": [
      "Loaded model from step: 199001\n"
     ]
    }
   ],
   "source": [
    "files = g16_files\n",
    "\n",
    "hsize = files.shape[1]\n",
    "vsize = files.shape[0]\n",
    "\n",
    "size = 600\n",
    "data = np.empty((vsize*size, hsize*size, 16))\n",
    "prediction = np.empty_like(data)\n",
    "latent_space = np.empty((vsize*size, hsize*size, 64))\n",
    "for ih in range(hsize):\n",
    "    for iv in range(vsize):\n",
    "        f = files.values[iv, ih]\n",
    "        if isinstance(f, float):\n",
    "            continue\n",
    "        arr = geonexl1b.L1bFile(f, resolution_km=1.).load()\n",
    "        data[iv*size:(iv+1)*size, ih*size:(ih+1)*size] = arr\n",
    "        h8_synth, z = domain_to_domain(model, arr, 'G16', 'H8', latent=True)\n",
    "        prediction[iv*size:(iv+1)*size, ih*size:(ih+1)*size] = h8_synth\n",
    "        #latent_space[iv*size:(iv+1)*size, ih*size:(ih+1)*size] =  np.transpose(z, (1,2,0))"
   ]
  },
  {
   "cell_type": "code",
   "execution_count": 32,
   "metadata": {},
   "outputs": [],
   "source": [
    "false_color = data[:,:,[2,1,0]]\n",
    "mn = np.nanmin(false_color)\n",
    "mx = np.nanmax(false_color)\n",
    "false_color = (false_color - mn) / (mx-mn)\n",
    "\n",
    "plt.imsave('G16G17_test_overlap.png', false_color)\n",
    "\n",
    "true_color = prediction[:,:,[2,1,0]]\n",
    "mn = np.nanmin(true_color)\n",
    "mx = np.nanmax(true_color)\n",
    "true_color = (true_color - mn) / (mx-mn)\n",
    "\n",
    "plt.imsave('G16_to_RGB_test_overlap.png', true_color)\n"
   ]
  },
  {
   "cell_type": "code",
   "execution_count": 60,
   "metadata": {},
   "outputs": [
    {
     "data": {
      "text/html": [
       "<div>\n",
       "<style scoped>\n",
       "    .dataframe tbody tr th:only-of-type {\n",
       "        vertical-align: middle;\n",
       "    }\n",
       "\n",
       "    .dataframe tbody tr th {\n",
       "        vertical-align: top;\n",
       "    }\n",
       "\n",
       "    .dataframe thead th {\n",
       "        text-align: right;\n",
       "    }\n",
       "</style>\n",
       "<table border=\"1\" class=\"dataframe\">\n",
       "  <thead>\n",
       "    <tr style=\"text-align: right;\">\n",
       "      <th>h</th>\n",
       "      <th>58</th>\n",
       "      <th>59</th>\n",
       "    </tr>\n",
       "    <tr>\n",
       "      <th>v</th>\n",
       "      <th></th>\n",
       "      <th></th>\n",
       "    </tr>\n",
       "  </thead>\n",
       "  <tbody>\n",
       "    <tr>\n",
       "      <th>16</th>\n",
       "      <td>/nobackupp10/tvandal/nex-ai-geo-translation/da...</td>\n",
       "      <td>/nobackupp10/tvandal/nex-ai-geo-translation/da...</td>\n",
       "    </tr>\n",
       "    <tr>\n",
       "      <th>17</th>\n",
       "      <td>/nobackupp10/tvandal/nex-ai-geo-translation/da...</td>\n",
       "      <td>/nobackupp10/tvandal/nex-ai-geo-translation/da...</td>\n",
       "    </tr>\n",
       "  </tbody>\n",
       "</table>\n",
       "</div>"
      ],
      "text/plain": [
       "h                                                  58  \\\n",
       "v                                                       \n",
       "16  /nobackupp10/tvandal/nex-ai-geo-translation/da...   \n",
       "17  /nobackupp10/tvandal/nex-ai-geo-translation/da...   \n",
       "\n",
       "h                                                  59  \n",
       "v                                                      \n",
       "16  /nobackupp10/tvandal/nex-ai-geo-translation/da...  \n",
       "17  /nobackupp10/tvandal/nex-ai-geo-translation/da...  "
      ]
     },
     "execution_count": 60,
     "metadata": {},
     "output_type": "execute_result"
    }
   ],
   "source": [
    "sensor = 'G17'\n",
    "directory = '/nobackupp10/tvandal/nex-ai-geo-translation/data/Test/GOES17/GEONEX-L1B/'\n",
    "\n",
    "goes = geonexl1b.GeoNEXL1b(directory, sensor)\n",
    "goesfiles = goes.files(dayofyear=2)\n",
    "\n",
    "pivot_files = goesfiles.pivot('v', 'h', 'file')\n",
    "\n",
    "#hrange = list(range(44,60)) + [0,1,2,3]\n",
    "#pivot_files = pivot_files[hrange]\n",
    "pivot_files"
   ]
  },
  {
   "cell_type": "code",
   "execution_count": 61,
   "metadata": {},
   "outputs": [
    {
     "data": {
      "text/plain": [
       "(1200, 1200, 16)"
      ]
     },
     "execution_count": 61,
     "metadata": {},
     "output_type": "execute_result"
    }
   ],
   "source": [
    "hsize = pivot_files.shape[1]\n",
    "vsize = pivot_files.shape[0]\n",
    "\n",
    "size = 600\n",
    "data = np.empty((vsize*size, hsize*size, 16))\n",
    "prediction = np.empty_like(data)\n",
    "latent_space = np.empty((vsize*size, hsize*size, 64))\n",
    "for ih in range(hsize):\n",
    "    for iv in range(vsize):\n",
    "        f = pivot_files.values[iv, ih]\n",
    "        if isinstance(f, float):\n",
    "            continue\n",
    "        arr = geonexl1b.L1bFile(f, resolution_km=1.).load()\n",
    "        data[iv*size:(iv+1)*size, ih*size:(ih+1)*size] = arr\n",
    "data.shape"
   ]
  },
  {
   "cell_type": "code",
   "execution_count": 62,
   "metadata": {},
   "outputs": [],
   "source": [
    "false_color = data[:,:,[2,1,0]]\n",
    "mn = 0. #np.nanmin(false_color)\n",
    "mx = 1.6 #np.nanmax(false_color)*0.9\n",
    "\n",
    "false_color[false_color > mx] = mx\n",
    "false_color[false_color < mn] = mn\n",
    "\n",
    "false_color = (false_color - mn) / (mx - mn)\n",
    "\n",
    "plt.imsave(f'{sensor}_falsecolor.png', false_color.astype(np.float32), dpi=500)"
   ]
  },
  {
   "cell_type": "code",
   "execution_count": null,
   "metadata": {},
   "outputs": [],
   "source": []
  }
 ],
 "metadata": {
  "kernelspec": {
   "display_name": "Python 3",
   "language": "python",
   "name": "python3"
  },
  "language_info": {
   "codemirror_mode": {
    "name": "ipython",
    "version": 3
   },
   "file_extension": ".py",
   "mimetype": "text/x-python",
   "name": "python",
   "nbconvert_exporter": "python",
   "pygments_lexer": "ipython3",
   "version": "3.7.7"
  }
 },
 "nbformat": 4,
 "nbformat_minor": 4
}
